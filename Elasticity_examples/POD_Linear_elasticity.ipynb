{
 "cells": [
  {
   "cell_type": "markdown",
   "source": [
    "# Learning a Linear Elastic System with  Proper Orthogonal Decomposition in a Deep Operator Network\n",
    "This example uses a Deep Operator Network where the trunk net is a Proper Orthogonal Decomposition (POD). This means we only need to define and learn the parameters of the branch network to fully define the deep operator network.\n",
    "\n",
    "## Import Necessary Tools\n",
    "First, we import our tensor and plotting libraries. Then we import the Deep Operator Network `DeepOperatorNetwork` and the Neural Network Trainer `Trainer` from UQpy."
   ],
   "metadata": {
    "collapsed": false
   },
   "id": "f758f08164c95a42"
  },
  {
   "cell_type": "code",
   "execution_count": 1,
   "outputs": [],
   "source": [
    "import numpy as np\n",
    "import torch\n",
    "import torch.nn as nn\n",
    "from torch.utils.data import Dataset, DataLoader\n",
    "import torch.nn.functional as F\n",
    "from matplotlib import pyplot as plt\n",
    "\n",
    "from UQpy.scientific_machine_learning.neural_networks import DeepOperatorNetwork\n",
    "from UQpy.scientific_machine_learning.trainers import Trainer\n",
    "from dataset_pod import load_data, rescale\n",
    "from scipy.io import savemat\n",
    "\n",
    "import logging\n",
    "\n",
    "logger = logging.getLogger(\"UQpy\")\n",
    "logger.setLevel(logging.INFO)"
   ],
   "metadata": {
    "collapsed": false,
    "ExecuteTime": {
     "end_time": "2024-05-20T20:34:00.113968Z",
     "start_time": "2024-05-20T20:33:57.923632Z"
    }
   },
   "id": "b20d78b3-07ac-4e8e-8d32-3026176943ca"
  },
  {
   "cell_type": "markdown",
   "source": [
    "## Define the Neural Operator\n",
    "\n",
    "We define the branch network as a subclass of Pytorch's ``nn.Module`` and the trunk network is computed as the POD. The ``load_data`` function will compute the POD for us, so we define the trunk network as the identity function."
   ],
   "metadata": {
    "collapsed": false
   },
   "id": "2aaf251c02abb84a"
  },
  {
   "cell_type": "code",
   "execution_count": 2,
   "id": "92df3f11c28a9050",
   "metadata": {
    "ExecuteTime": {
     "end_time": "2024-05-20T20:34:03.963014Z",
     "start_time": "2024-05-20T20:34:03.945660Z"
    }
   },
   "outputs": [],
   "source": [
    "class BranchNet(nn.Module):\n",
    "    def __init__(self, *args, **kwargs):\n",
    "        super().__init__(*args, **kwargs)\n",
    "        self.fnn = nn.Sequential(nn.Linear(101, 100), nn.Tanh())\n",
    "        self.conv_layers = nn.Sequential(\n",
    "            nn.Conv2d(1, 16, (5, 5), padding=\"same\"),\n",
    "            nn.AvgPool2d(2, 1, padding=0),\n",
    "            nn.Conv2d(16, 16, (5, 5), padding=\"same\"),\n",
    "            nn.AvgPool2d(2, 1, padding=0),\n",
    "            nn.Conv2d(16, 16, (5, 5), padding=\"same\"),\n",
    "            nn.AvgPool2d(2, 1, padding=0),\n",
    "            nn.Conv2d(16, 64, (5, 5), padding=\"same\"),\n",
    "            nn.AvgPool2d(2, 1, padding=0),\n",
    "        )\n",
    "        self.dnn = nn.Sequential(\n",
    "            nn.Flatten(),\n",
    "            nn.Linear(64 * 6 * 6, 512),\n",
    "            nn.Tanh(),\n",
    "            nn.Linear(512, 512),\n",
    "            nn.Tanh(),\n",
    "            nn.Linear(512, 200),\n",
    "        )\n",
    "\n",
    "    def forward(self, x: torch.Tensor) -> torch.Tensor:\n",
    "        x = self.fnn(x)\n",
    "        x = x.view(-1, 1, 10, 10)\n",
    "        x = self.conv_layers(x)\n",
    "        x = self.dnn(x)\n",
    "        return x\n",
    "\n",
    "\n",
    "class TrunkNet(nn.Module):\n",
    "    def __init__(self, *args, **kwargs):\n",
    "        super().__init__(*args, **kwargs)\n",
    "\n",
    "    @staticmethod\n",
    "    def forward(x: torch.Tensor) -> torch.Tensor:\n",
    "        return x\n",
    "\n",
    "\n",
    "branch_network = BranchNet()\n",
    "trunk_network = TrunkNet()\n",
    "model = DeepOperatorNetwork(branch_network, trunk_network, 2)"
   ]
  },
  {
   "cell_type": "markdown",
   "source": [
    "## Define the Data\n",
    "With our model defined, we turn our attention to the training and testing data. The ``load_data`` function computes a POD with a given number of modes. UQpy's deep operator network uses Pytorch's `Dataset` and `DataLoader` to define the inputs and labeled outputs.\n",
    "\n",
    "Additionally, we define our loss function as the mean square error between the network's prediction and the true value. As is standard in Pytorch, the `LossFunction` is also defined as a subclass of ``nn.Module``."
   ],
   "metadata": {
    "collapsed": false
   },
   "id": "fb937f51115b3181"
  },
  {
   "cell_type": "code",
   "execution_count": 3,
   "id": "dcd80761-7643-4d27-b0d8-d66c5249eaf0",
   "metadata": {
    "ExecuteTime": {
     "end_time": "2024-05-20T20:34:11.004802Z",
     "start_time": "2024-05-20T20:34:10.115562Z"
    }
   },
   "outputs": [],
   "source": [
    "class LossFunction(nn.Module):\n",
    "    \"\"\"Define the loss function for training\"\"\"\n",
    "    def __init__(self, reduction: str = \"mean\", *args, **kwargs):\n",
    "        super().__init__(*args, **kwargs)\n",
    "        self.reduction = reduction\n",
    "\n",
    "    def forward(self, prediction, label):\n",
    "        return F.mse_loss(\n",
    "            prediction[0], label[0], reduction=self.reduction\n",
    "        ) + F.mse_loss(\n",
    "            prediction[1], label[1], reduction=self.reduction\n",
    "        )\n",
    "\n",
    "\n",
    "class ElasticityDataSet(Dataset):\n",
    "    \"\"\"Load the Elasticity dataset\"\"\"\n",
    "\n",
    "    def __init__(self, x_basis, y_basis, f_x, u_x, u_y):\n",
    "        self.u_basis = np.hstack((x_basis, y_basis))\n",
    "        self.f_x = f_x\n",
    "        self.u_x = u_x\n",
    "        self.u_y = u_y\n",
    "\n",
    "    def __len__(self):\n",
    "        return int(self.f_x.shape[0])\n",
    "\n",
    "    def __getitem__(self, i):\n",
    "        return (self.u_basis, \n",
    "                self.f_x[i, :], \n",
    "                (self.u_x[i, :, 0], self.u_y[i, :, 0])\n",
    "                )\n",
    "    \n",
    "    \n",
    "modes = 100\n",
    "(F_train, Ux_train, Uy_train, F_test, Ux_test, Uy_test, X,\n",
    " ux_train_mean, ux_train_std, uy_train_mean, uy_train_std,\n",
    " ux_basis, uy_basis, lam_ux, lam_uy) = load_data(modes)\n",
    "train_data = DataLoader(\n",
    "    ElasticityDataSet(\n",
    "        np.float32(ux_basis), \n",
    "        np.float32(uy_basis), \n",
    "        np.float32(F_train), \n",
    "        np.float32(Ux_train), \n",
    "        np.float32(Uy_train)\n",
    "    ),\n",
    "    batch_size=100,\n",
    "    shuffle=True,\n",
    ")\n",
    "test_data = DataLoader(\n",
    "    ElasticityDataSet(\n",
    "        np.float32(ux_basis), \n",
    "        np.float32(uy_basis), \n",
    "        np.float32(F_test), \n",
    "        np.float32(Ux_test), \n",
    "        np.float32(Uy_test)\n",
    "    ),\n",
    "    batch_size=100,\n",
    "    shuffle=True,\n",
    ")"
   ]
  },
  {
   "cell_type": "markdown",
   "source": [
    "## Train the Model\n",
    "With the model, data, and loss function defined all that remains is to specify our optimization algorithm and train the model. We use Pytorch's implementation of the Adam algorithm.\n",
    "\n",
    "The `trainer` object assembles the model, optimization algorithm, loss function, and data to learn the weights of the model that minimize the loss function evaluated on all training data.\n",
    "\n",
    "For convenience, the model as already been trained and its weights saved. The code below was used to train the model.\n",
    "\n",
    "```python\n",
    "optimizer = torch.optim.Adam(model.parameters(), lr=1e-4)\n",
    "trainer = Trainer(model, optimizer, LossFunction())\n",
    "trainer.run(train_data=train_data, test_data=test_data, epochs=100, tolerance=1e-4)\n",
    "torch.save(model.state_dict(), \"POD_elastic_parameters.pt\")\n",
    "\n",
    "train_loss = trainer.history[\"train_loss\"].detach().numpy()\n",
    "test_loss = trainer.history[\"test_loss\"].detach().numpy()\n",
    "np.save(\"POD_train_loss.npy\", train_loss)\n",
    "np.save(\"POD_test_loss.npy\", test_loss)\n",
    "```"
   ],
   "metadata": {
    "collapsed": false
   },
   "id": "484c308cba2c03b7"
  },
  {
   "cell_type": "code",
   "execution_count": 4,
   "id": "524af161-53b4-445b-aad3-41a8ce2c1292",
   "metadata": {
    "ExecuteTime": {
     "end_time": "2024-05-20T20:34:18.330787Z",
     "start_time": "2024-05-20T20:34:18.314219Z"
    }
   },
   "outputs": [
    {
     "data": {
      "text/plain": "DeepOperatorNetwork(\n  (branch_network): BranchNet(\n    (fnn): Sequential(\n      (0): Linear(in_features=101, out_features=100, bias=True)\n      (1): Tanh()\n    )\n    (conv_layers): Sequential(\n      (0): Conv2d(1, 16, kernel_size=(5, 5), stride=(1, 1), padding=same)\n      (1): AvgPool2d(kernel_size=2, stride=1, padding=0)\n      (2): Conv2d(16, 16, kernel_size=(5, 5), stride=(1, 1), padding=same)\n      (3): AvgPool2d(kernel_size=2, stride=1, padding=0)\n      (4): Conv2d(16, 16, kernel_size=(5, 5), stride=(1, 1), padding=same)\n      (5): AvgPool2d(kernel_size=2, stride=1, padding=0)\n      (6): Conv2d(16, 64, kernel_size=(5, 5), stride=(1, 1), padding=same)\n      (7): AvgPool2d(kernel_size=2, stride=1, padding=0)\n    )\n    (dnn): Sequential(\n      (0): Flatten(start_dim=1, end_dim=-1)\n      (1): Linear(in_features=2304, out_features=512, bias=True)\n      (2): Tanh()\n      (3): Linear(in_features=512, out_features=512, bias=True)\n      (4): Tanh()\n      (5): Linear(in_features=512, out_features=200, bias=True)\n    )\n  )\n  (trunk_network): TrunkNet()\n)"
     },
     "execution_count": 4,
     "metadata": {},
     "output_type": "execute_result"
    }
   ],
   "source": [
    "model = DeepOperatorNetwork(branch_network, trunk_network, 2)\n",
    "model.load_state_dict(torch.load(\"POD_elastic_parameters.pt\"))\n",
    "model.eval()"
   ]
  },
  {
   "cell_type": "code",
   "execution_count": 5,
   "id": "6322d301-2b4f-4b70-a011-53c2bfde7791",
   "metadata": {
    "ExecuteTime": {
     "end_time": "2024-05-20T20:34:30.205159Z",
     "start_time": "2024-05-20T20:34:29.777395Z"
    }
   },
   "outputs": [
    {
     "data": {
      "text/plain": "<Figure size 640x480 with 1 Axes>",
      "image/png": "[encoded data removed]"
     },
     "metadata": {},
     "output_type": "display_data"
    }
   ],
   "source": [
    "train_loss = np.load(\"POD_train_loss.npy\")\n",
    "test_loss = np.load(\"POD_test_loss.npy\")\n",
    "fig, ax = plt.subplots()\n",
    "ax.plot(train_loss, label='Train loss')\n",
    "ax.plot(test_loss, label='Test loss')\n",
    "ax.set_title(\"Loss\")\n",
    "ax.set(xlabel=\"Epoch\", ylabel=\"Loss\")\n",
    "ax.legend()\n",
    "ax.set_yscale('log')"
   ]
  },
  {
   "cell_type": "markdown",
   "source": [
    "## Visualize the Deep Operator Network Predictions\n",
    "\n",
    "We compare the prediction from our model to the truth on a sample from the test data set. The Python below formats the prediction for a MatLab script that produced the plot below.\n",
    "\n",
    "In the first column on the left, we have the applied loading. The second column shows true displacements in both $X$ and $Y$ and the third column shows our model's predictions. In the fourth column, right, shows the error between the prediction and true value.\n",
    "\n",
    "![A comparison of the Deep Operator Network predictions and the truth on a sample from the test data](Predictions_POD/TestCase8.png)"
   ],
   "metadata": {
    "collapsed": false
   },
   "id": "ebdd6533479527fd"
  },
  {
   "cell_type": "code",
   "execution_count": 7,
   "outputs": [],
   "source": [
    "def eval_model(test_data, model):\n",
    "    \"\"\"Evaluate test data and save results\"\"\"\n",
    "    model.eval()\n",
    "    ux_pred_list = []\n",
    "    uy_pred_list = []\n",
    "    ux_test_list = []\n",
    "    uy_test_list = []\n",
    "    x_list = []\n",
    "    for batch_number, (*x, y) in enumerate(test_data):\n",
    "        ux_pred, uy_pred = model(*x)\n",
    "        ux_test, uy_test = y\n",
    "        ux_pred_list.append(ux_pred)\n",
    "        uy_pred_list.append(uy_pred)\n",
    "        ux_test_list.append(ux_test)\n",
    "        uy_test_list.append(uy_test)\n",
    "        x_list.append(x[1][:, 0, :])\n",
    "    return torch.cat(ux_pred_list), torch.cat(uy_pred_list), torch.cat(ux_test_list), torch.cat(\n",
    "        uy_test_list), torch.cat(x_list)\n",
    "\n",
    "ux_pred, uy_pred, ux_test, uy_test, x_test = eval_model(test_data, model)\n",
    "ux_pred = rescale(ux_pred.detach(), np.squeeze(ux_train_mean, axis=2), np.squeeze(ux_train_std, axis=2))\n",
    "uy_pred = rescale(uy_pred.detach(), np.squeeze(uy_train_mean, axis=2), np.squeeze(uy_train_std, axis=2))\n",
    "ux_test = rescale(ux_test.detach(), np.squeeze(ux_train_mean, axis=2), np.squeeze(ux_train_std, axis=2))\n",
    "uy_test = rescale(uy_test.detach(), np.squeeze(uy_train_mean, axis=2), np.squeeze(uy_train_std, axis=2))\n",
    "\n",
    "savemat('POD_Elastic_plate.mat',\n",
    "        {'x_test': x_test.detach().numpy(), \n",
    "         'ux_test': ux_test.detach().numpy(), \n",
    "         'uy_test': uy_test.detach().numpy(),\n",
    "         'ux_pred': ux_pred.detach().numpy(), \n",
    "         'uy_pred': uy_pred.detach().numpy()}\n",
    "        )"
   ],
   "metadata": {
    "collapsed": false,
    "ExecuteTime": {
     "start_time": "2024-05-20T17:37:58.074807Z"
    }
   },
   "id": "76ef4c20-be96-4d5a-be75-0bf86ce6858c"
  }
 ],
 "metadata": {
  "kernelspec": {
   "display_name": "Python 3 (ipykernel)",
   "language": "python",
   "name": "python3"
  },
  "language_info": {
   "codemirror_mode": {
    "name": "ipython",
    "version": 3
   },
   "file_extension": ".py",
   "mimetype": "text/x-python",
   "name": "python",
   "nbconvert_exporter": "python",
   "pygments_lexer": "ipython3",
   "version": "3.9.19"
  }
 },
 "nbformat": 4,
 "nbformat_minor": 5
}
