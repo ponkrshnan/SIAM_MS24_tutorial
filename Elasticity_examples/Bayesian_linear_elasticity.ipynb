{
 "cells": [
  {
   "cell_type": "markdown",
   "source": [
    "# Learning a Linear Elastic System with a Bayesian Deep Operator Network\n",
    "\n",
    "This example uses a Bayesian Deep Operator Network to learn the response of a linear elastic system.\n",
    "\n",
    "## Import Necessary Tools\n",
    "First, we import our tensor and plotting libraries. Then we import the Bayesian layers `BayesianLayer` and `BayesainConvLayer`, the Deep Operator Network `DeepOperatorNetwork`, and the Bayes by backpropagation algorithm `BBBTrainer` from UQpy.\n",
    "\n",
    "For convenience, UQpy's logging statements are printed to console."
   ],
   "metadata": {
    "collapsed": false
   },
   "id": "b6ecd7d2fc91062f"
  },
  {
   "cell_type": "code",
   "execution_count": 1,
   "outputs": [],
   "source": [
    "import numpy as np\n",
    "import torch\n",
    "import torch.nn as nn\n",
    "from torch.utils.data import Dataset, DataLoader\n",
    "import torch.nn.functional as F\n",
    "from scipy.io import savemat\n",
    "from matplotlib import pyplot as plt\n",
    "\n",
    "from UQpy.scientific_machine_learning.layers import BayesianLayer, BayesianConvLayer\n",
    "from UQpy.scientific_machine_learning.neural_networks import DeepOperatorNetwork\n",
    "from UQpy.scientific_machine_learning.trainers import BBBTrainer\n",
    "from dataset import load_data, rescale\n",
    "\n",
    "import logging\n",
    "logger = logging.getLogger(\"UQpy\")\n",
    "logger.setLevel(logging.INFO)"
   ],
   "metadata": {
    "collapsed": false,
    "ExecuteTime": {
     "end_time": "2024-05-18T14:45:34.844829Z",
     "start_time": "2024-05-18T14:45:32.653785Z"
    }
   },
   "id": "37a4b674-0473-46a4-9aa9-a2cda04d1b9b"
  },
  {
   "cell_type": "markdown",
   "source": [
    "## Define the Neural Operator\n",
    "\n",
    "Here we define the branch and trunk networks, similar to how they were defined in the deterministic case. The important difference in the Bayesian method is the use of the Bayesian layers implemented by `BayesianLayer` and `BayesianConvLayer`, which are Bayesian versions of full connected linear layers and 2D convolution layers, respectively.\n",
    "\n",
    "The dictionary ``priors`` define the parameters for the Normal distributions that govern the weights and bias in each layer. "
   ],
   "metadata": {
    "collapsed": false
   },
   "id": "dbfb592b821b4dec"
  },
  {
   "cell_type": "code",
   "execution_count": 2,
   "id": "17d6fc72-0ff3-4945-ab2d-3f581a502593",
   "metadata": {
    "ExecuteTime": {
     "end_time": "2024-05-18T14:45:36.585644Z",
     "start_time": "2024-05-18T14:45:36.580084Z"
    }
   },
   "outputs": [],
   "source": [
    "priors = {\n",
    "    \"prior_mu\": 0,\n",
    "    \"prior_sigma\": 0.01,\n",
    "    \"posterior_mu_initial\": (0, 0.1),\n",
    "    \"posterior_rho_initial\": (-5, 0.1),\n",
    "}"
   ]
  },
  {
   "cell_type": "code",
   "execution_count": 3,
   "id": "e4bc664d-fb76-4527-b177-ae2916482300",
   "metadata": {
    "ExecuteTime": {
     "end_time": "2024-05-18T14:45:38.747159Z",
     "start_time": "2024-05-18T14:45:38.697147Z"
    }
   },
   "outputs": [],
   "source": [
    "class BranchNet(nn.Module):\n",
    "    \"\"\"Branch network for the deep operator network\"\"\"\n",
    "    def __init__(self, *args, **kwargs):\n",
    "        super().__init__(*args, **kwargs)\n",
    "        self.fnn = nn.Sequential(BayesianLayer(101, 100, priors=priors), nn.Tanh())\n",
    "        self.conv_layers = nn.Sequential(\n",
    "            BayesianConvLayer(1, 16, (5, 5), padding=\"same\", priors=priors),\n",
    "            nn.AvgPool2d(2, 1, padding=0),\n",
    "            BayesianConvLayer(16, 16, (5, 5), padding=\"same\", priors=priors),\n",
    "            nn.AvgPool2d(2, 1, padding=0),\n",
    "            BayesianConvLayer(16, 16, (5, 5), padding=\"same\", priors=priors),\n",
    "            nn.AvgPool2d(2, 1, padding=0),\n",
    "            BayesianConvLayer(16, 64, (5, 5), padding=\"same\", priors=priors),\n",
    "            nn.AvgPool2d(2, 1, padding=0),\n",
    "        )\n",
    "        self.dnn = nn.Sequential(\n",
    "            nn.Flatten(),\n",
    "            BayesianLayer(64 * 6 * 6, 512, priors=priors),\n",
    "            nn.Tanh(),\n",
    "            BayesianLayer(512, 512, priors=priors),\n",
    "            nn.Tanh(),\n",
    "            BayesianLayer(512, 200, priors=priors),\n",
    "        )\n",
    "\n",
    "    def forward(self, x: torch.Tensor) -> torch.Tensor:\n",
    "        x = self.fnn(x)\n",
    "        x = x.view(-1, 1, 10, 10)\n",
    "        x = self.conv_layers(x)\n",
    "        x = self.dnn(x)\n",
    "        return x\n",
    "\n",
    "\n",
    "class TrunkNet(nn.Module):\n",
    "    \"\"\"Trunk network for the deep operator network\"\"\"\n",
    "    def __init__(self, *args, **kwargs):\n",
    "        super().__init__(*args, **kwargs)\n",
    "        self.fnn = nn.Sequential(\n",
    "            BayesianLayer(2, 128, priors=priors),\n",
    "            nn.Tanh(),\n",
    "            BayesianLayer(128, 128, priors=priors),\n",
    "            nn.Tanh(),\n",
    "            BayesianLayer(128, 128, priors=priors),\n",
    "            nn.Tanh(),\n",
    "            BayesianLayer(128, 200, priors=priors),\n",
    "            nn.Tanh(),\n",
    "        )\n",
    "        self.Xmin = np.array([0.0, 0.0]).reshape((-1, 2))\n",
    "        self.Xmax = np.array([1.0, 1.0]).reshape((-1, 2))\n",
    "\n",
    "    def forward(self, x: torch.Tensor) -> torch.Tensor:\n",
    "        x = 2.0 * (x - self.Xmin) / (self.Xmax - self.Xmin) - 1.0\n",
    "        x = x.float()\n",
    "        x = self.fnn(x)\n",
    "        return x\n",
    "\n",
    "\n",
    "branch_network = BranchNet()\n",
    "trunk_network = TrunkNet()\n",
    "model = DeepOperatorNetwork(branch_network, trunk_network, 2)"
   ]
  },
  {
   "cell_type": "markdown",
   "source": [
    "# Define the Data\n",
    "\n",
    "With our model defined, we turn our attention to the training and testing data. UQpy's deep operator network uses Pytorch's `Dataset` and `DataLoader` to define the inputs and labeled outputs.\n",
    "\n",
    "Additionally, we define our loss function as the mean square error between the network's prediction and the true value. As is standard in Pytorch, the `LossFunction` is also defined as a subclass of ``nn.Module``.\n",
    "\n",
    "The data and loss function are identical to the deterministic case."
   ],
   "metadata": {
    "collapsed": false
   },
   "id": "e85f89927fae0c40"
  },
  {
   "cell_type": "code",
   "execution_count": 4,
   "id": "edefb1a3-0736-4777-ac64-3a06082dcecb",
   "metadata": {
    "ExecuteTime": {
     "end_time": "2024-05-18T14:45:42.287692Z",
     "start_time": "2024-05-18T14:45:41.905299Z"
    }
   },
   "outputs": [],
   "source": [
    "class LossFunction(nn.Module):\n",
    "    \"\"\"Define the loss function for training\"\"\"\n",
    "    def __init__(self, reduction: str = \"mean\", *args, **kwargs):\n",
    "        super().__init__(*args, **kwargs)\n",
    "        self.reduction = reduction\n",
    "\n",
    "    def forward(self, prediction, label):\n",
    "        return F.mse_loss(\n",
    "            prediction[0], label[0], reduction=self.reduction\n",
    "        ) + F.mse_loss(prediction[1], label[1], reduction=self.reduction)\n",
    "\n",
    "\n",
    "class ElasticityDataSet(Dataset):\n",
    "    \"\"\"Format the elasticity dataset\"\"\"\n",
    "    def __init__(self, x, f_x, u_x, u_y):\n",
    "        self.x = x\n",
    "        self.f_x = f_x\n",
    "        self.u_x = u_x\n",
    "        self.u_y = u_y\n",
    "\n",
    "    def __len__(self):\n",
    "        return int(self.f_x.shape[0])\n",
    "\n",
    "    def __getitem__(self, i):\n",
    "        return self.x, self.f_x[i, :], (self.u_x[i, :, 0], self.u_y[i, :, 0])\n",
    "\n",
    "\n",
    "(F_train, Ux_train, Uy_train, F_test, Ux_test, Uy_test,\n",
    " X, ux_train_mean, ux_train_std, uy_train_mean, uy_train_std,) = load_data()\n",
    "train_data = DataLoader(\n",
    "    ElasticityDataSet(\n",
    "        np.float32(X), np.float32(F_train), np.float32(Ux_train), np.float32(Uy_train)\n",
    "    ),\n",
    "    batch_size=100,\n",
    "    shuffle=True,\n",
    ")\n",
    "test_data = DataLoader(\n",
    "    ElasticityDataSet(\n",
    "        np.float32(X), np.float32(F_test), np.float32(Ux_test), np.float32(Uy_test)\n",
    "    ),\n",
    "    batch_size=100,\n",
    "    shuffle=True,\n",
    ")"
   ]
  },
  {
   "cell_type": "markdown",
   "source": [
    "## Train the Model\n",
    "With the model, data, and loss function defined all that remains is to specify our optimization algorithm and train the model. We use Pytorch's implementation of the Adam algorithm.\n",
    "\n",
    "The `trainer` object assembles the model, optimization algorithm, loss function, and data to learn the weights of the model that minimize the loss function evaluated on all training data.\n",
    "\n",
    "For convience, the model as already been trained and its weights saved. The code below was used to train the model and save the results.\n",
    "\n",
    "```python\n",
    "optimizer = torch.optim.Adam(model.parameters(), lr=1e-3)\n",
    "trainer = BBBTrainer(model, optimizer, LossFunction())\n",
    "trainer.run(\n",
    "    train_data=train_data,\n",
    "    test_data=test_data,\n",
    "    epochs=300,\n",
    "    tolerance=1e-4,\n",
    "    beta=1e-8,\n",
    "    num_samples=1,\n",
    ")\n",
    "torch.save(model.state_dict(), \"bayesian_linear_elastic_parameters.pt\")\n",
    "\n",
    "train_loss = trainer.history[\"train_nll\"].detach().numpy()\n",
    "test_loss = trainer.history[\"test_nll\"].detach().numpy()\n",
    "np.save(\"bayesian_linear_elastic_train_loss.npy\", train_loss)\n",
    "np.save(\"bayesian_linear_elastic_test_loss.npy\", test_loss)\n",
    "```"
   ],
   "metadata": {
    "collapsed": false
   },
   "id": "7be2cf28504accef"
  },
  {
   "cell_type": "code",
   "execution_count": 11,
   "id": "76869e2f-5c87-4ffc-af15-8670f87f255b",
   "metadata": {
    "ExecuteTime": {
     "end_time": "2024-05-18T16:59:12.159179Z",
     "start_time": "2024-05-18T16:59:11.984692Z"
    }
   },
   "outputs": [
    {
     "data": {
      "text/plain": "<Figure size 640x480 with 1 Axes>",
      "image/png": "[encoded data removed]"
     },
     "metadata": {},
     "output_type": "display_data"
    }
   ],
   "source": [
    "model = DeepOperatorNetwork(branch_network, trunk_network, 2)\n",
    "model.load_state_dict(torch.load(\"bayesian_linear_elastic_parameters.pt\"))\n",
    "model.eval()\n",
    "train_loss = np.load(\"bayesian_linear_elastic_train_loss.npy\")\n",
    "test_loss = np.load(\"bayesian_linear_elastic_test_loss.npy\")\n",
    "\n",
    "fig, ax = plt.subplots()\n",
    "ax.plot(train_loss, label='Train NLL')\n",
    "ax.plot(test_loss, label='Test NLL')\n",
    "ax.set_title(\"Bayes By Backpropagation Training Loss\")\n",
    "ax.set(xlabel=\"Epoch\", ylabel=\"Loss\")\n",
    "ax.legend()\n",
    "ax.set_yscale('log')"
   ]
  },
  {
   "cell_type": "code",
   "execution_count": 7,
   "id": "1e2645d4-ac14-45d2-824d-ed5d7d16f3a6",
   "metadata": {
    "ExecuteTime": {
     "end_time": "2024-05-18T16:58:19.456277Z",
     "start_time": "2024-05-18T16:58:19.450280Z"
    }
   },
   "outputs": [],
   "source": [
    "# Evaluate test data and save results\n",
    "def eval_model(test_data, model, uq=False):\n",
    "    if uq:\n",
    "        model.train()\n",
    "    else:\n",
    "        model.eval()\n",
    "    ux_pred_list = []\n",
    "    uy_pred_list = []\n",
    "    ux_test_list = []\n",
    "    uy_test_list = []\n",
    "    x_list = []\n",
    "    for batch_number, (*x, y) in enumerate(test_data):\n",
    "        ux_pred, uy_pred = model(*x)\n",
    "        ux_test, uy_test = y\n",
    "        ux_pred_list.append(ux_pred)\n",
    "        uy_pred_list.append(uy_pred)\n",
    "        ux_test_list.append(ux_test)\n",
    "        uy_test_list.append(uy_test)\n",
    "        x_list.append(x[1][:, 0, :])\n",
    "    return torch.cat(ux_pred_list), torch.cat(uy_pred_list), torch.cat(ux_test_list), torch.cat(\n",
    "        uy_test_list), torch.cat(x_list)"
   ]
  },
  {
   "cell_type": "code",
   "execution_count": 8,
   "id": "4c731cf5-fecd-4505-9812-bcb74e0d5746",
   "metadata": {
    "ExecuteTime": {
     "end_time": "2024-05-18T16:58:20.257692Z",
     "start_time": "2024-05-18T16:58:20.051564Z"
    }
   },
   "outputs": [],
   "source": [
    "ux_pred, uy_pred, ux_test, uy_test, x_test = eval_model(test_data, model)\n",
    "ux_pred = rescale(ux_pred.detach(), np.squeeze(ux_train_mean, axis=2), np.squeeze(ux_train_std, axis=2))\n",
    "uy_pred = rescale(uy_pred.detach(), np.squeeze(uy_train_mean, axis=2), np.squeeze(uy_train_std, axis=2))\n",
    "ux_test = rescale(ux_test.detach(), np.squeeze(ux_train_mean, axis=2), np.squeeze(ux_train_std, axis=2))\n",
    "uy_test = rescale(uy_test.detach(), np.squeeze(uy_train_mean, axis=2), np.squeeze(uy_train_std, axis=2))"
   ]
  },
  {
   "cell_type": "code",
   "execution_count": 9,
   "id": "6ca045f7-4d00-4731-aa6a-a42d2f600a18",
   "metadata": {
    "ExecuteTime": {
     "end_time": "2024-05-18T16:58:39.159275Z",
     "start_time": "2024-05-18T16:58:20.569156Z"
    }
   },
   "outputs": [],
   "source": [
    "num_uq_samps = 100\n",
    "ux_pred_list = []\n",
    "uy_pred_list = []\n",
    "for i in range(num_uq_samps):\n",
    "    ux_samp_pred, uy_samp_pred, _, _, _ = eval_model(test_data, model, uq=True)\n",
    "    ux_samp_pred = rescale(ux_samp_pred.detach(), np.squeeze(ux_train_mean, axis=2), np.squeeze(ux_train_std, axis=2))\n",
    "    uy_samp_pred = rescale(uy_samp_pred.detach(), np.squeeze(uy_train_mean, axis=2), np.squeeze(uy_train_std, axis=2))\n",
    "    ux_pred_list.append(ux_samp_pred)\n",
    "    uy_pred_list.append(uy_samp_pred)\n",
    "ux_sigma = np.std(ux_pred_list, axis=0)\n",
    "uy_sigma = np.std(uy_pred_list, axis=0)\n"
   ]
  },
  {
   "cell_type": "code",
   "execution_count": 10,
   "id": "66870726-f6cc-41cc-aa69-c85848313c86",
   "metadata": {
    "ExecuteTime": {
     "end_time": "2024-05-18T16:58:39.169853Z",
     "start_time": "2024-05-18T16:58:39.161232Z"
    }
   },
   "outputs": [],
   "source": [
    "savemat('Bayesian_Elastic_plate.mat',\n",
    "        {'x_test': x_test.detach().numpy(), 'ux_test': ux_test.detach().numpy(), 'uy_test': uy_test.detach().numpy(),\n",
    "         'ux_pred': ux_pred.detach().numpy(), 'uy_pred': uy_pred.detach().numpy(), 'ux_sigma': ux_sigma,\n",
    "         'uy_sigma': uy_sigma})"
   ]
  },
  {
   "cell_type": "code",
   "execution_count": null,
   "id": "e5d9e696-fa92-48c0-b5f0-d2e045489a6f",
   "metadata": {},
   "outputs": [],
   "source": []
  }
 ],
 "metadata": {
  "kernelspec": {
   "display_name": "Python 3 (ipykernel)",
   "language": "python",
   "name": "python3"
  },
  "language_info": {
   "codemirror_mode": {
    "name": "ipython",
    "version": 3
   },
   "file_extension": ".py",
   "mimetype": "text/x-python",
   "name": "python",
   "nbconvert_exporter": "python",
   "pygments_lexer": "ipython3",
   "version": "3.9.19"
  }
 },
 "nbformat": 4,
 "nbformat_minor": 5
}
