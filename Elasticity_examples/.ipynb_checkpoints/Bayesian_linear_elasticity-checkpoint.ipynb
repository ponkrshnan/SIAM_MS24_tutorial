{
 "cells": [
  {
   "cell_type": "code",
   "execution_count": 1,
   "id": "37a4b674-0473-46a4-9aa9-a2cda04d1b9b",
   "metadata": {},
   "outputs": [],
   "source": [
    "import numpy as np\n",
    "import torch\n",
    "import torch.nn as nn\n",
    "from torch.utils.data import Dataset, DataLoader\n",
    "import torch.nn.functional as F\n",
    "from scipy.io import savemat\n",
    "from matplotlib import pyplot as plt\n",
    "\n",
    "from UQpy.scientific_machine_learning.neural_networks import DeepOperatorNetwork\n",
    "from UQpy.scientific_machine_learning.trainers import BBBTrainer\n",
    "from UQpy.scientific_machine_learning.layers.BayesianLayer import BayesianLayer\n",
    "from UQpy.scientific_machine_learning.layers.BayesianConvLayer import BayesianConvLayer\n",
    "from dataset import load_data, rescale\n",
    "\n",
    "import logging\n",
    "\n",
    "logger = logging.getLogger(\"UQpy\")\n",
    "logger.setLevel(logging.INFO)"
   ]
  },
  {
   "cell_type": "code",
   "execution_count": 2,
   "id": "17d6fc72-0ff3-4945-ab2d-3f581a502593",
   "metadata": {},
   "outputs": [],
   "source": [
    "priors = {\n",
    "    \"prior_mu\": 0,\n",
    "    \"prior_sigma\": 0.01,\n",
    "    \"posterior_mu_initial\": (0, 0.1),\n",
    "    \"posterior_rho_initial\": (-5, 0.1),\n",
    "}"
   ]
  },
  {
   "cell_type": "code",
   "execution_count": 3,
   "id": "e4bc664d-fb76-4527-b177-ae2916482300",
   "metadata": {},
   "outputs": [],
   "source": [
    "\n",
    "class BranchNet(nn.Module):\n",
    "    def __init__(self, *args, **kwargs):\n",
    "        super().__init__(*args, **kwargs)\n",
    "        self.fnn = nn.Sequential(BayesianLayer(101, 100, priors=priors), nn.Tanh())\n",
    "        self.conv_layers = nn.Sequential(\n",
    "            BayesianConvLayer(1, 16, (5, 5), padding=\"same\", priors=priors),\n",
    "            nn.AvgPool2d(2, 1, padding=0),\n",
    "            BayesianConvLayer(16, 16, (5, 5), padding=\"same\", priors=priors),\n",
    "            nn.AvgPool2d(2, 1, padding=0),\n",
    "            BayesianConvLayer(16, 16, (5, 5), padding=\"same\", priors=priors),\n",
    "            nn.AvgPool2d(2, 1, padding=0),\n",
    "            BayesianConvLayer(16, 64, (5, 5), padding=\"same\", priors=priors),\n",
    "            nn.AvgPool2d(2, 1, padding=0),\n",
    "        )\n",
    "        self.dnn = nn.Sequential(\n",
    "            nn.Flatten(),\n",
    "            BayesianLayer(64 * 6 * 6, 512, priors=priors),\n",
    "            nn.Tanh(),\n",
    "            BayesianLayer(512, 512, priors=priors),\n",
    "            nn.Tanh(),\n",
    "            BayesianLayer(512, 200, priors=priors),\n",
    "        )\n",
    "\n",
    "    def forward(self, x: torch.Tensor) -> torch.Tensor:\n",
    "        x = self.fnn(x)\n",
    "        x = x.view(-1, 1, 10, 10)\n",
    "        x = self.conv_layers(x)\n",
    "        x = self.dnn(x)\n",
    "        return x\n"
   ]
  },
  {
   "cell_type": "code",
   "execution_count": 4,
   "id": "74450db9-f474-4145-81ee-f52751107cad",
   "metadata": {},
   "outputs": [],
   "source": [
    "class TrunkNet(nn.Module):\n",
    "    def __init__(self, *args, **kwargs):\n",
    "        super().__init__(*args, **kwargs)\n",
    "        self.fnn = nn.Sequential(\n",
    "            BayesianLayer(2, 128, priors=priors),\n",
    "            nn.Tanh(),\n",
    "            BayesianLayer(128, 128, priors=priors),\n",
    "            nn.Tanh(),\n",
    "            BayesianLayer(128, 128, priors=priors),\n",
    "            nn.Tanh(),\n",
    "            BayesianLayer(128, 200, priors=priors),\n",
    "            nn.Tanh(),\n",
    "        )\n",
    "        self.Xmin = np.array([0.0, 0.0]).reshape((-1, 2))\n",
    "        self.Xmax = np.array([1.0, 1.0]).reshape((-1, 2))\n",
    "\n",
    "    def forward(self, x: torch.Tensor) -> torch.Tensor:\n",
    "        x = 2.0 * (x - self.Xmin) / (self.Xmax - self.Xmin) - 1.0\n",
    "        x = x.float()\n",
    "        x = self.fnn(x)\n",
    "        return x\n"
   ]
  },
  {
   "cell_type": "code",
   "execution_count": 5,
   "id": "a3ae6c79-5430-4f85-b89e-acbb288ca0a4",
   "metadata": {},
   "outputs": [],
   "source": [
    "branch_network = BranchNet()\n",
    "trunk_network = TrunkNet()\n",
    "model = DeepOperatorNetwork(branch_network, trunk_network, 2)"
   ]
  },
  {
   "cell_type": "code",
   "execution_count": 6,
   "id": "edefb1a3-0736-4777-ac64-3a06082dcecb",
   "metadata": {},
   "outputs": [],
   "source": [
    "# Load datasets and create data loaders\n",
    "class ElasticityDataSet(Dataset):\n",
    "    \"\"\"Load the Elasticity dataset\"\"\"\n",
    "\n",
    "    def __init__(self, x, f_x, u_x, u_y):\n",
    "        self.x = x\n",
    "        self.f_x = f_x\n",
    "        self.u_x = u_x\n",
    "        self.u_y = u_y\n",
    "\n",
    "    def __len__(self):\n",
    "        return int(self.f_x.shape[0])\n",
    "\n",
    "    def __getitem__(self, i):\n",
    "        return self.x, self.f_x[i, :], (self.u_x[i, :, 0], self.u_y[i, :, 0])\n",
    "\n",
    "(F_train,Ux_train, Uy_train, F_test, Ux_test, Uy_test,\n",
    "    X, ux_train_mean, ux_train_std, uy_train_mean, uy_train_std,) = load_data()\n",
    "train_data = DataLoader(\n",
    "    ElasticityDataSet(\n",
    "        np.float32(X), np.float32(F_train), np.float32(Ux_train), np.float32(Uy_train)\n",
    "    ),\n",
    "    batch_size=100,\n",
    "    shuffle=True,\n",
    ")\n",
    "test_data = DataLoader(\n",
    "    ElasticityDataSet(\n",
    "        np.float32(X), np.float32(F_test), np.float32(Ux_test), np.float32(Uy_test)\n",
    "    ),\n",
    "    batch_size=100,\n",
    "    shuffle=True,\n",
    ")"
   ]
  },
  {
   "cell_type": "code",
   "execution_count": 7,
   "id": "44b73243-76e6-4873-b705-6076ad23ae87",
   "metadata": {},
   "outputs": [],
   "source": [
    "class LossFunction(nn.Module):\n",
    "    def __init__(self, reduction: str = \"mean\", *args, **kwargs):\n",
    "        super().__init__(*args, **kwargs)\n",
    "        self.reduction = reduction\n",
    "\n",
    "    def forward(self, prediction, label):\n",
    "        return F.mse_loss(\n",
    "            prediction[0], label[0], reduction=self.reduction\n",
    "        ) + F.mse_loss(prediction[1], label[1], reduction=self.reduction)\n"
   ]
  },
  {
   "cell_type": "code",
   "execution_count": 8,
   "id": "46193a23-2b8b-415a-acf9-0205b66df0f4",
   "metadata": {},
   "outputs": [],
   "source": [
    "optimizer = torch.optim.Adam(model.parameters(), lr=1e-3)\n",
    "trainer = BBBTrainer(model, optimizer, LossFunction())"
   ]
  },
  {
   "cell_type": "code",
   "execution_count": 9,
   "id": "9ac34a06-0e7a-4ec5-8f66-d68b4a70bab8",
   "metadata": {},
   "outputs": [
    {
     "name": "stderr",
     "output_type": "stream",
     "text": [
      "[INFO] - 2024-05-15 19:59:23,398 - UQpy: Scientific Machine Learning: Beginning training and testing DeepOperatorNetwork\n",
      "[INFO] - 2024-05-15 19:59:27,356 - UQpy: Scientific Machine Learning: Epoch 1 / 10 Train Loss 51.80174082203915 Train NLL 50.975012151818525 Train KL 82672744.0 Test NLL 6.391499996185303\n",
      "[INFO] - 2024-05-15 19:59:31,273 - UQpy: Scientific Machine Learning: Epoch 2 / 10 Train Loss 4.424274620256926 Train NLL 3.602955040178801 Train KL 82131952.0 Test NLL 3.404322385787964\n",
      "[INFO] - 2024-05-15 19:59:35,183 - UQpy: Scientific Machine Learning: Epoch 3 / 10 Train Loss 4.6927002229188615 Train NLL 3.8767365781884444 Train KL 81596360.0 Test NLL 4.282773017883301\n",
      "[INFO] - 2024-05-15 19:59:39,096 - UQpy: Scientific Machine Learning: Epoch 4 / 10 Train Loss 3.948502126492952 Train NLL 3.1371662114795886 Train KL 81133592.0 Test NLL 4.371737003326416\n",
      "[INFO] - 2024-05-15 19:59:43,010 - UQpy: Scientific Machine Learning: Epoch 5 / 10 Train Loss 3.864055533158152 Train NLL 3.056754043227748 Train KL 80730152.0 Test NLL 1.798797845840454\n",
      "[INFO] - 2024-05-15 19:59:46,934 - UQpy: Scientific Machine Learning: Epoch 6 / 10 Train Loss 2.2287474431489644 Train NLL 1.4249527893568341 Train KL 80379456.0 Test NLL 1.8796329498291016\n",
      "[INFO] - 2024-05-15 19:59:50,874 - UQpy: Scientific Machine Learning: Epoch 7 / 10 Train Loss 2.241977095603943 Train NLL 1.4411745698828446 Train KL 80080256.0 Test NLL 1.4886467456817627\n",
      "[INFO] - 2024-05-15 19:59:54,779 - UQpy: Scientific Machine Learning: Epoch 8 / 10 Train Loss 2.5583896323254236 Train NLL 1.760135907875864 Train KL 79825384.0 Test NLL 2.206207513809204\n",
      "[INFO] - 2024-05-15 19:59:58,725 - UQpy: Scientific Machine Learning: Epoch 9 / 10 Train Loss 2.522988382138704 Train NLL 1.7269736747992666 Train KL 79601472.0 Test NLL 1.9550588130950928\n",
      "[INFO] - 2024-05-15 20:00:02,669 - UQpy: Scientific Machine Learning: Epoch 10 / 10 Train Loss 2.5192808226535193 Train NLL 1.7252778944216276 Train KL 79400296.0 Test NLL 1.1221123933792114\n",
      "[INFO] - 2024-05-15 20:00:02,670 - UQpy: Scientific Machine Learning: Completed training and testing DeepOperatorNetwork\n"
     ]
    }
   ],
   "source": [
    "trainer.run(\n",
    "    train_data=train_data,\n",
    "    test_data=test_data,\n",
    "    epochs=10,\n",
    "    tolerance=1e-4,\n",
    "    beta=1e-8,\n",
    "    num_samples=1,\n",
    ")"
   ]
  },
  {
   "cell_type": "code",
   "execution_count": 10,
   "id": "76869e2f-5c87-4ffc-af15-8670f87f255b",
   "metadata": {},
   "outputs": [
    {
     "data": {
      "image/png": "[encoded data removed]",
      "text/plain": [
       "<Figure size 640x480 with 1 Axes>"
      ]
     },
     "metadata": {},
     "output_type": "display_data"
    }
   ],
   "source": [
    "train_loss = trainer.history[\"train_loss\"].detach().numpy()\n",
    "test_loss = trainer.history[\"test_nll\"].detach().numpy()\n",
    "fig, ax = plt.subplots()\n",
    "ax.plot(train_loss)\n",
    "ax.plot(test_loss)\n",
    "ax.set_title(\"Bayes By Backpropagation Training Loss\")\n",
    "ax.set(xlabel=\"Epoch\", ylabel=\"Loss\")\n",
    "ax.set_yscale('log')"
   ]
  },
  {
   "cell_type": "code",
   "execution_count": 11,
   "id": "1e2645d4-ac14-45d2-824d-ed5d7d16f3a6",
   "metadata": {},
   "outputs": [],
   "source": [
    "# Evaluate test data and save results\n",
    "def eval_model(test_data,model,uq=False):\n",
    "    if uq:\n",
    "        model.train()\n",
    "    else:\n",
    "        model.eval()\n",
    "    ux_pred_list = []\n",
    "    uy_pred_list = []\n",
    "    ux_test_list = []\n",
    "    uy_test_list = []\n",
    "    x_list = []\n",
    "    for batch_number, (*x, y) in enumerate(test_data):\n",
    "        ux_pred, uy_pred = model(*x)\n",
    "        ux_test , uy_test = y\n",
    "        ux_pred_list.append(ux_pred)\n",
    "        uy_pred_list.append(uy_pred)\n",
    "        ux_test_list.append(ux_test)\n",
    "        uy_test_list.append(uy_test)\n",
    "        x_list.append(x[1][:,0,:])\n",
    "    return torch.cat(ux_pred_list), torch.cat(uy_pred_list), torch.cat(ux_test_list), torch.cat(uy_test_list), torch.cat(x_list)"
   ]
  },
  {
   "cell_type": "code",
   "execution_count": 12,
   "id": "4c731cf5-fecd-4505-9812-bcb74e0d5746",
   "metadata": {},
   "outputs": [],
   "source": [
    "ux_pred, uy_pred, ux_test, uy_test, x_test = eval_model(test_data,model)\n",
    "ux_pred = rescale(ux_pred.detach(), np.squeeze(ux_train_mean, axis=2), np.squeeze(ux_train_std, axis=2))\n",
    "uy_pred = rescale(uy_pred.detach(), np.squeeze(uy_train_mean, axis=2), np.squeeze(uy_train_std, axis=2))\n",
    "ux_test = rescale(ux_test.detach(), np.squeeze(ux_train_mean, axis=2), np.squeeze(ux_train_std, axis=2))\n",
    "uy_test = rescale(uy_test.detach(), np.squeeze(uy_train_mean, axis=2), np.squeeze(uy_train_std, axis=2))"
   ]
  },
  {
   "cell_type": "code",
   "execution_count": 13,
   "id": "6ca045f7-4d00-4731-aa6a-a42d2f600a18",
   "metadata": {},
   "outputs": [],
   "source": [
    "num_uq_samps = 100\n",
    "ux_pred_list = []\n",
    "uy_pred_list = []\n",
    "for i in range(num_uq_samps):\n",
    "    ux_samp_pred, uy_samp_pred, _, _,_  = eval_model(test_data,model,uq=True)\n",
    "    ux_samp_pred = rescale(ux_samp_pred.detach(), np.squeeze(ux_train_mean, axis=2), np.squeeze(ux_train_std, axis=2))\n",
    "    uy_samp_pred = rescale(uy_samp_pred.detach(), np.squeeze(uy_train_mean, axis=2), np.squeeze(uy_train_std, axis=2))\n",
    "    ux_pred_list.append(ux_samp_pred)\n",
    "    uy_pred_list.append(uy_samp_pred)\n",
    "ux_sigma = np.std(ux_pred_list,axis=0)\n",
    "uy_sigma = np.std(uy_pred_list,axis=0)\n",
    "    "
   ]
  },
  {
   "cell_type": "code",
   "execution_count": 14,
   "id": "66870726-f6cc-41cc-aa69-c85848313c86",
   "metadata": {},
   "outputs": [],
   "source": [
    "savemat('Bayesian_Elastic_plate.mat',{'x_test': x_test.detach().numpy(), 'ux_test': ux_test.detach().numpy(), 'uy_test': uy_test.detach().numpy(), \n",
    "                              'ux_pred': ux_pred.detach().numpy(), 'uy_pred': uy_pred.detach().numpy(), 'ux_sigma': ux_sigma, 'uy_sigma': uy_sigma} )"
   ]
  }
 ],
 "metadata": {
  "kernelspec": {
   "display_name": "Python 3 (ipykernel)",
   "language": "python",
   "name": "python3"
  },
  "language_info": {
   "codemirror_mode": {
    "name": "ipython",
    "version": 3
   },
   "file_extension": ".py",
   "mimetype": "text/x-python",
   "name": "python",
   "nbconvert_exporter": "python",
   "pygments_lexer": "ipython3",
   "version": "3.9.19"
  }
 },
 "nbformat": 4,
 "nbformat_minor": 5
}
