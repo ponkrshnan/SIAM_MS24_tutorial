{
 "cells": [
  {
   "cell_type": "markdown",
   "id": "ce320b42",
   "metadata": {},
   "source": [
    "# Learning a Linear Elastic System with a Deep Operator Network\n",
    "\n",
    "This example uses a Deep Operator Network to learn the response of a linear elastic system.\n",
    "\n",
    "## Import Necessary Tools\n",
    "First, we import our tensor and plotting libraries. Then we import the Deep Operator Network `DeepOperatorNetwork` and the Neural Network Trainer `Trainer` from UQpy.\n",
    "\n",
    "For convenience , UQpy's logging statements are printed to console."
   ]
  },
  {
   "cell_type": "code",
   "execution_count": 1,
   "id": "c5fc65ca-caea-4c5a-80cb-c0f383969d48",
   "metadata": {
    "ExecuteTime": {
     "end_time": "2024-05-20T20:31:52.038066Z",
     "start_time": "2024-05-20T20:31:48.742324Z"
    }
   },
   "outputs": [],
   "source": [
    "import numpy as np\n",
    "import torch\n",
    "import torch.nn as nn\n",
    "from torch.utils.data import Dataset, DataLoader\n",
    "import torch.nn.functional as F\n",
    "from scipy.io import savemat\n",
    "from matplotlib import pyplot as plt\n",
    "\n",
    "from UQpy.scientific_machine_learning.neural_networks import DeepOperatorNetwork\n",
    "from UQpy.scientific_machine_learning.trainers import Trainer\n",
    "from dataset import load_data, rescale\n",
    "import logging\n",
    "logger = logging.getLogger(\"UQpy\")\n",
    "logger.setLevel(logging.INFO)"
   ]
  },
  {
   "cell_type": "markdown",
   "id": "7a733f74",
   "metadata": {},
   "source": [
    "## Define the Neural Operator\n",
    "Next, we define the deep operator network via its branch and trunk networks. The branch and trunk are separate neural networks that are each defined as a subclass of torch's `nn.Module` class. The deep operator network will output a prediction for both $X$ and $Y$, so deep operator network is defined with 2 outputs."
   ]
  },
  {
   "cell_type": "code",
   "execution_count": 2,
   "id": "91205060-a8e9-4efe-b7bc-4eb9ddb34900",
   "metadata": {
    "ExecuteTime": {
     "end_time": "2024-05-20T20:31:56.113330Z",
     "start_time": "2024-05-20T20:31:56.089115Z"
    }
   },
   "outputs": [],
   "source": [
    "class BranchNet(nn.Module):\n",
    "    \"\"\"Branch network for the deep operator network\"\"\"\n",
    "    def __init__(self, *args, **kwargs):\n",
    "        super().__init__(*args, **kwargs)\n",
    "        self.fnn = nn.Sequential(nn.Linear(101, 100), nn.Tanh())\n",
    "        self.conv_layers = nn.Sequential(\n",
    "            nn.Conv2d(1, 16, (5, 5), padding=\"same\"),\n",
    "            nn.AvgPool2d(2, 1, padding=0),\n",
    "            nn.Conv2d(16, 16, (5, 5), padding=\"same\"),\n",
    "            nn.AvgPool2d(2, 1, padding=0),\n",
    "            nn.Conv2d(16, 16, (5, 5), padding=\"same\"),\n",
    "            nn.AvgPool2d(2, 1, padding=0),\n",
    "            nn.Conv2d(16, 64, (5, 5), padding=\"same\"),\n",
    "            nn.AvgPool2d(2, 1, padding=0),\n",
    "        )\n",
    "        self.dnn = nn.Sequential(\n",
    "            nn.Flatten(),\n",
    "            nn.Linear(64 * 6 * 6, 512),\n",
    "            nn.Tanh(),\n",
    "            nn.Linear(512, 512),\n",
    "            nn.Tanh(),\n",
    "            nn.Linear(512, 200),\n",
    "        )\n",
    "\n",
    "    def forward(self, x: torch.Tensor) -> torch.Tensor:\n",
    "        x = self.fnn(x)\n",
    "        x = x.view(-1, 1, 10, 10)\n",
    "        x = self.conv_layers(x)\n",
    "        x = self.dnn(x)\n",
    "        return x\n",
    "\n",
    "\n",
    "class TrunkNet(nn.Module):\n",
    "    \"\"\"Trunk network for the deep operator network\"\"\"\n",
    "    def __init__(self, *args, **kwargs):\n",
    "        super().__init__(*args, **kwargs)\n",
    "        self.fnn = nn.Sequential(\n",
    "            nn.Linear(2, 128),\n",
    "            nn.Tanh(),\n",
    "            nn.Linear(128, 128),\n",
    "            nn.Tanh(),\n",
    "            nn.Linear(128, 128),\n",
    "            nn.Tanh(),\n",
    "            nn.Linear(128, 200),\n",
    "            nn.Tanh(),\n",
    "        )\n",
    "        self.Xmin = np.array([0.0, 0.0]).reshape((-1, 2))\n",
    "        self.Xmax = np.array([1.0, 1.0]).reshape((-1, 2))\n",
    "\n",
    "    def forward(self, x: torch.Tensor) -> torch.Tensor:\n",
    "        x = 2.0 * (x - self.Xmin) / (self.Xmax - self.Xmin) - 1.0\n",
    "        x = x.float()\n",
    "        x = self.fnn(x)\n",
    "        return x\n",
    "\n",
    "    \n",
    "branch_network = BranchNet()\n",
    "trunk_network = TrunkNet()\n",
    "model = DeepOperatorNetwork(branch_network, trunk_network, 2) # 2 outputs, one for X and one for Y"
   ]
  },
  {
   "cell_type": "markdown",
   "id": "0a38fdb1",
   "metadata": {},
   "source": [
    "## Define the Data\n",
    "With our model defined, we turn our attention to the training and testing data. UQpy's deep operator network uses Pytorch's `Dataset` and `DataLoader` to define the inputs and labeled outputs.\n",
    "\n",
    "Additionally, we define our loss function as the mean square error between the network's prediction and the true value. As is standard in Pytorch, the `LossFunction` is also defined as a subclass of ``nn.Module``."
   ]
  },
  {
   "cell_type": "code",
   "execution_count": 3,
   "id": "df095581-e928-4563-b635-ca73801856ae",
   "metadata": {
    "ExecuteTime": {
     "end_time": "2024-05-20T20:32:06.195756Z",
     "start_time": "2024-05-20T20:32:05.760741Z"
    }
   },
   "outputs": [],
   "source": [
    "class LossFunction(nn.Module):\n",
    "    \"\"\"Define the loss function for training\"\"\"\n",
    "    def __init__(self, reduction: str = \"mean\", *args, **kwargs):\n",
    "        super().__init__(*args, **kwargs)\n",
    "        self.reduction = reduction\n",
    "\n",
    "    def forward(self, prediction, label):\n",
    "        return F.mse_loss(\n",
    "            prediction[0], label[0], reduction=self.reduction\n",
    "        ) + F.mse_loss(prediction[1], label[1], reduction=self.reduction)\n",
    "\n",
    "    \n",
    "class ElasticityDataSet(Dataset):\n",
    "    \"\"\"Format the elasticity dataset\"\"\"\n",
    "    def __init__(self, x, f_x, u_x, u_y):\n",
    "        self.x = x\n",
    "        self.f_x = f_x\n",
    "        self.u_x = u_x\n",
    "        self.u_y = u_y\n",
    "\n",
    "    def __len__(self):\n",
    "        return int(self.f_x.shape[0])\n",
    "\n",
    "    def __getitem__(self, i):\n",
    "        return self.x, self.f_x[i, :], (self.u_x[i, :, 0], self.u_y[i, :, 0])\n",
    "\n",
    "(F_train,Ux_train, Uy_train, F_test, Ux_test, Uy_test,\n",
    "    X, ux_train_mean, ux_train_std, uy_train_mean, uy_train_std,) = load_data()\n",
    "train_data = DataLoader(\n",
    "    ElasticityDataSet(\n",
    "        np.float32(X), np.float32(F_train), np.float32(Ux_train), np.float32(Uy_train)\n",
    "    ),\n",
    "    batch_size=100,\n",
    "    shuffle=True,\n",
    ")\n",
    "test_data = DataLoader(\n",
    "    ElasticityDataSet(\n",
    "        np.float32(X), np.float32(F_test), np.float32(Ux_test), np.float32(Uy_test)\n",
    "    ),\n",
    "    batch_size=100,\n",
    "    shuffle=True,\n",
    ")"
   ]
  },
  {
   "cell_type": "markdown",
   "id": "a6ed2ff2",
   "metadata": {},
   "source": [
    "## Train the Model\n",
    "With the model, data, and loss function defined all that remains is to specify our optimization algorithm and train the model. We use Pytorch's implementation of the Adam algorithm.\n",
    "\n",
    "The `trainer` object assembles the model, optimization algorithm, loss function, and data to learn the weights of the model that minimize the loss function evaluated on all training data.\n",
    "\n",
    "For convenience, the model as already been trained and its weights saved. The code below was used to train the model.\n",
    "\n",
    "```python\n",
    "\n",
    "optimizer = torch.optim.Adam(model.parameters(), lr = 1e-4)\n",
    "trainer = Trainer(model, optimizer, LossFunction())\n",
    "trainer.run(train_data=train_data, test_data=test_data, epochs=200)\n",
    "torch.save(model.state_dict(), \"linear_elastic_parameters.pt\")\n",
    "\n",
    "train_loss = trainer.history[\"train_loss\"].detach().numpy()\n",
    "test_loss = trainer.history[\"test_loss\"].detach().numpy()\n",
    "np.save(\"linear_elastic_train_loss.npy\", train_loss)\n",
    "np.save(\"linear_elastic_test_loss.npy\", test_loss)\n",
    "```"
   ]
  },
  {
   "cell_type": "code",
   "execution_count": 4,
   "outputs": [
    {
     "data": {
      "text/plain": "DeepOperatorNetwork(\n  (branch_network): BranchNet(\n    (fnn): Sequential(\n      (0): Linear(in_features=101, out_features=100, bias=True)\n      (1): Tanh()\n    )\n    (conv_layers): Sequential(\n      (0): Conv2d(1, 16, kernel_size=(5, 5), stride=(1, 1), padding=same)\n      (1): AvgPool2d(kernel_size=2, stride=1, padding=0)\n      (2): Conv2d(16, 16, kernel_size=(5, 5), stride=(1, 1), padding=same)\n      (3): AvgPool2d(kernel_size=2, stride=1, padding=0)\n      (4): Conv2d(16, 16, kernel_size=(5, 5), stride=(1, 1), padding=same)\n      (5): AvgPool2d(kernel_size=2, stride=1, padding=0)\n      (6): Conv2d(16, 64, kernel_size=(5, 5), stride=(1, 1), padding=same)\n      (7): AvgPool2d(kernel_size=2, stride=1, padding=0)\n    )\n    (dnn): Sequential(\n      (0): Flatten(start_dim=1, end_dim=-1)\n      (1): Linear(in_features=2304, out_features=512, bias=True)\n      (2): Tanh()\n      (3): Linear(in_features=512, out_features=512, bias=True)\n      (4): Tanh()\n      (5): Linear(in_features=512, out_features=200, bias=True)\n    )\n  )\n  (trunk_network): TrunkNet(\n    (fnn): Sequential(\n      (0): Linear(in_features=2, out_features=128, bias=True)\n      (1): Tanh()\n      (2): Linear(in_features=128, out_features=128, bias=True)\n      (3): Tanh()\n      (4): Linear(in_features=128, out_features=128, bias=True)\n      (5): Tanh()\n      (6): Linear(in_features=128, out_features=200, bias=True)\n      (7): Tanh()\n    )\n  )\n)"
     },
     "execution_count": 4,
     "metadata": {},
     "output_type": "execute_result"
    }
   ],
   "source": [
    "model = DeepOperatorNetwork(branch_network, trunk_network, 2)\n",
    "model.load_state_dict(torch.load(\"linear_elastic_parameters.pt\"))\n",
    "model.eval()"
   ],
   "metadata": {
    "collapsed": false,
    "ExecuteTime": {
     "end_time": "2024-05-20T20:32:17.727195Z",
     "start_time": "2024-05-20T20:32:17.695957Z"
    }
   },
   "id": "59b43a412d22433c"
  },
  {
   "cell_type": "code",
   "execution_count": 5,
   "outputs": [
    {
     "data": {
      "text/plain": "<Figure size 640x480 with 1 Axes>",
      "image/png": "[encoded data removed]"
     },
     "metadata": {},
     "output_type": "display_data"
    }
   ],
   "source": [
    "train_loss = np.load(\"linear_elastic_train_loss.npy\")\n",
    "test_loss = np.load(\"linear_elastic_test_loss.npy\")\n",
    "fig, ax = plt.subplots()\n",
    "ax.plot(train_loss, label='Train loss')\n",
    "ax.plot(test_loss, label='Test loss')\n",
    "ax.set_title(\"Loss\")\n",
    "ax.set(xlabel=\"Epoch\", ylabel=\"Loss\")\n",
    "ax.legend()\n",
    "ax.set_yscale('log')"
   ],
   "metadata": {
    "collapsed": false,
    "ExecuteTime": {
     "end_time": "2024-05-20T20:32:34.282997Z",
     "start_time": "2024-05-20T20:32:33.952103Z"
    }
   },
   "id": "7a0e63b2-e3b7-4826-9d0c-9f1dc45164ff"
  },
  {
   "cell_type": "markdown",
   "source": [
    "## Visualize the Deep Operator Network Predictions\n",
    "\n",
    "We compare the prediction from our model to the truth on a sample from the test data set. The Python below formats the prediction for a MatLab script that produced the plot below.\n",
    "\n",
    "In the first column on the left, we have the applied loading. The second column shows true displacements in both $X$ and $Y$ and the third column shows our model's predictions. In the fourth column, right, shows the error between the prediction and true value.\n",
    "\n",
    "![A comparison of the Deep Operator Network predictions and the truth on a sample from the test data](Predictions_Deterministic/TestCase8.png)"
   ],
   "metadata": {
    "collapsed": false
   },
   "id": "f1b68a235e2cc78b"
  },
  {
   "cell_type": "code",
   "execution_count": 8,
   "outputs": [],
   "source": [
    "def eval_model(test_data, model):\n",
    "    \"\"\"Evaluate test data and save results\"\"\"\n",
    "    model.eval()\n",
    "    ux_pred_list = []\n",
    "    uy_pred_list = []\n",
    "    ux_test_list = []\n",
    "    uy_test_list = []\n",
    "    x_list = []\n",
    "    for batch_number, (*x, y) in enumerate(test_data):\n",
    "        ux_pred, uy_pred = model(*x)\n",
    "        ux_test , uy_test = y\n",
    "        ux_pred_list.append(ux_pred)\n",
    "        uy_pred_list.append(uy_pred)\n",
    "        ux_test_list.append(ux_test)\n",
    "        uy_test_list.append(uy_test)\n",
    "        x_list.append(x[1][:,0,:])\n",
    "    return torch.cat(ux_pred_list), torch.cat(uy_pred_list), torch.cat(ux_test_list), torch.cat(uy_test_list), torch.cat(x_list)\n",
    "\n",
    "ux_pred, uy_pred, ux_test, uy_test, x_test = eval_model(test_data,model)\n",
    "ux_pred = rescale(ux_pred.detach(), np.squeeze(ux_train_mean, axis=2), np.squeeze(ux_train_std, axis=2))\n",
    "uy_pred = rescale(uy_pred.detach(), np.squeeze(uy_train_mean, axis=2), np.squeeze(uy_train_std, axis=2))\n",
    "ux_test = rescale(ux_test.detach(), np.squeeze(ux_train_mean, axis=2), np.squeeze(ux_train_std, axis=2))\n",
    "uy_test = rescale(uy_test.detach(), np.squeeze(uy_train_mean, axis=2), np.squeeze(uy_train_std, axis=2))\n",
    "\n",
    "savemat('Elastic_plate.mat',\n",
    "        {'x_test': x_test.detach().numpy(), \n",
    "         'ux_test': ux_test.detach().numpy(), \n",
    "         'uy_test': uy_test.detach().numpy(), \n",
    "         'ux_pred': ux_pred.detach().numpy(), \n",
    "         'uy_pred': uy_pred.detach().numpy()}\n",
    "        )"
   ],
   "metadata": {
    "collapsed": false,
    "ExecuteTime": {
     "start_time": "2024-05-17T20:28:05.124844Z"
    }
   },
   "id": "66f0309b-2f91-4abd-87f8-2f47a8a760d4"
  }
 ],
 "metadata": {
  "kernelspec": {
   "display_name": "Python 3 (ipykernel)",
   "language": "python",
   "name": "python3"
  },
  "language_info": {
   "codemirror_mode": {
    "name": "ipython",
    "version": 3
   },
   "file_extension": ".py",
   "mimetype": "text/x-python",
   "name": "python",
   "nbconvert_exporter": "python",
   "pygments_lexer": "ipython3",
   "version": "3.11.5"
  }
 },
 "nbformat": 4,
 "nbformat_minor": 5
}
